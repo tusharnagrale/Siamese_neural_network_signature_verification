{
 "cells": [
  {
   "cell_type": "code",
   "execution_count": null,
   "metadata": {},
   "outputs": [],
   "source": [
    "Dataset link: https://www.kaggle.com/datasets/shreelakshmigp/cedardataset"
   ]
  },
  {
   "cell_type": "markdown",
   "metadata": {},
   "source": [
    "Importing libraries and dataset"
   ]
  },
  {
   "cell_type": "code",
   "execution_count": 4,
   "metadata": {},
   "outputs": [],
   "source": [
    "import os\n",
    "import cv2\n",
    "import numpy as np\n",
    "from sklearn.utils import shuffle"
   ]
  },
  {
   "cell_type": "code",
   "execution_count": 2,
   "metadata": {},
   "outputs": [],
   "source": [
    "# Paths to the folders\n",
    "full_forg_path = \"signatures\\\\full_forg\"\n",
    "full_org_path = \"signatures\\\\full_org\"\n",
    "\n",
    "# Initialize data lists\n",
    "train_data = []\n",
    "train_labels = []\n",
    "test_data = []\n",
    "test_labels = []"
   ]
  },
  {
   "cell_type": "code",
   "execution_count": 5,
   "metadata": {},
   "outputs": [
    {
     "name": "stdout",
     "output_type": "stream",
     "text": [
      "Training data size: (1848, 64, 64)\n",
      "Training labels size: (1848,)\n",
      "Testing data size: (792, 64, 64)\n",
      "Testing labels size: (792,)\n"
     ]
    }
   ],
   "source": [
    "# Function to process images and append to respective lists\n",
    "def process_images(folder_path, label, train_list, test_list, train_labels_list, test_labels_list):\n",
    "    images = sorted(os.listdir(folder_path))  # Sorted image files\n",
    "    for idx, img_name in enumerate(images):\n",
    "        img_path = os.path.join(folder_path, img_name)\n",
    "        if img_path.endswith(('.jpeg', '.JPEG', '.png', '.PNG', '.jpg', '.JPG')):\n",
    "            image = cv2.imread(img_path)\n",
    "            if image is None:  # Skip if image can't be read\n",
    "                continue\n",
    "            # image = cv2.cvtColor(image, cv2.COLOR_BGR2RGB)\n",
    "            image = cv2.cvtColor(image, cv2.COLOR_BGR2GRAY)\n",
    "            image = cv2.resize(image, (64, 64))\n",
    "            if idx < len(images) * 0.3:  # First 10% of images for testing\n",
    "                test_list.append(image)\n",
    "                test_labels_list.append(label)\n",
    "            else:  # Remaining images for training\n",
    "                train_list.append(image)\n",
    "                train_labels_list.append(label)\n",
    "\n",
    "# Process genuine signatures\n",
    "process_images(full_org_path, 0, train_data, test_data, train_labels, test_labels)\n",
    "\n",
    "# Process forged signatures\n",
    "process_images(full_forg_path, 1, train_data, test_data, train_labels, test_labels)\n",
    "\n",
    "# Normalize the image data\n",
    "train_data = np.array(train_data) / 255.0\n",
    "train_labels = np.array(train_labels)\n",
    "\n",
    "test_data = np.array(test_data) / 255.0\n",
    "test_labels = np.array(test_labels)\n",
    "\n",
    "print(f\"Training data size: {train_data.shape}\")\n",
    "print(f\"Training labels size: {train_labels.shape}\")\n",
    "print(f\"Testing data size: {test_data.shape}\")\n",
    "print(f\"Testing labels size: {test_labels.shape}\")"
   ]
  },
  {
   "cell_type": "code",
   "execution_count": 6,
   "metadata": {},
   "outputs": [],
   "source": [
    "train_data,train_labels = shuffle(train_data,train_labels)\n",
    "test_data,test_labels = shuffle(test_data,test_labels)"
   ]
  },
  {
   "cell_type": "code",
   "execution_count": 7,
   "metadata": {},
   "outputs": [
    {
     "data": {
      "text/html": [
       "<pre style=\"white-space:pre;overflow-x:auto;line-height:normal;font-family:Menlo,'DejaVu Sans Mono',consolas,'Courier New',monospace\"><span style=\"font-weight: bold\">Model: \"functional_5\"</span>\n",
       "</pre>\n"
      ],
      "text/plain": [
       "\u001b[1mModel: \"functional_5\"\u001b[0m\n"
      ]
     },
     "metadata": {},
     "output_type": "display_data"
    },
    {
     "data": {
      "text/html": [
       "<pre style=\"white-space:pre;overflow-x:auto;line-height:normal;font-family:Menlo,'DejaVu Sans Mono',consolas,'Courier New',monospace\">┏━━━━━━━━━━━━━━━━━━━━━┳━━━━━━━━━━━━━━━━━━━┳━━━━━━━━━━━━┳━━━━━━━━━━━━━━━━━━━┓\n",
       "┃<span style=\"font-weight: bold\"> Layer (type)        </span>┃<span style=\"font-weight: bold\"> Output Shape      </span>┃<span style=\"font-weight: bold\">    Param # </span>┃<span style=\"font-weight: bold\"> Connected to      </span>┃\n",
       "┡━━━━━━━━━━━━━━━━━━━━━╇━━━━━━━━━━━━━━━━━━━╇━━━━━━━━━━━━╇━━━━━━━━━━━━━━━━━━━┩\n",
       "│ img_A_inp           │ (<span style=\"color: #00d7ff; text-decoration-color: #00d7ff\">None</span>, <span style=\"color: #00af00; text-decoration-color: #00af00\">64</span>, <span style=\"color: #00af00; text-decoration-color: #00af00\">64</span>)    │          <span style=\"color: #00af00; text-decoration-color: #00af00\">0</span> │ -                 │\n",
       "│ (<span style=\"color: #0087ff; text-decoration-color: #0087ff\">InputLayer</span>)        │                   │            │                   │\n",
       "├─────────────────────┼───────────────────┼────────────┼───────────────────┤\n",
       "│ img_B_inp           │ (<span style=\"color: #00d7ff; text-decoration-color: #00d7ff\">None</span>, <span style=\"color: #00af00; text-decoration-color: #00af00\">64</span>, <span style=\"color: #00af00; text-decoration-color: #00af00\">64</span>)    │          <span style=\"color: #00af00; text-decoration-color: #00af00\">0</span> │ -                 │\n",
       "│ (<span style=\"color: #0087ff; text-decoration-color: #0087ff\">InputLayer</span>)        │                   │            │                   │\n",
       "├─────────────────────┼───────────────────┼────────────┼───────────────────┤\n",
       "│ sequential_4        │ (<span style=\"color: #00d7ff; text-decoration-color: #00d7ff\">None</span>, <span style=\"color: #00af00; text-decoration-color: #00af00\">64</span>)        │  <span style=\"color: #00af00; text-decoration-color: #00af00\">1,586,496</span> │ img_A_inp[<span style=\"color: #00af00; text-decoration-color: #00af00\">0</span>][<span style=\"color: #00af00; text-decoration-color: #00af00\">0</span>],  │\n",
       "│ (<span style=\"color: #0087ff; text-decoration-color: #0087ff\">Sequential</span>)        │                   │            │ img_B_inp[<span style=\"color: #00af00; text-decoration-color: #00af00\">0</span>][<span style=\"color: #00af00; text-decoration-color: #00af00\">0</span>]   │\n",
       "├─────────────────────┼───────────────────┼────────────┼───────────────────┤\n",
       "│ concatenate         │ (<span style=\"color: #00d7ff; text-decoration-color: #00d7ff\">None</span>, <span style=\"color: #00af00; text-decoration-color: #00af00\">128</span>)       │          <span style=\"color: #00af00; text-decoration-color: #00af00\">0</span> │ sequential_4[<span style=\"color: #00af00; text-decoration-color: #00af00\">0</span>][<span style=\"color: #00af00; text-decoration-color: #00af00\">…</span> │\n",
       "│ (<span style=\"color: #0087ff; text-decoration-color: #0087ff\">Concatenate</span>)       │                   │            │ sequential_4[<span style=\"color: #00af00; text-decoration-color: #00af00\">1</span>][<span style=\"color: #00af00; text-decoration-color: #00af00\">…</span> │\n",
       "├─────────────────────┼───────────────────┼────────────┼───────────────────┤\n",
       "│ dense_1 (<span style=\"color: #0087ff; text-decoration-color: #0087ff\">Dense</span>)     │ (<span style=\"color: #00d7ff; text-decoration-color: #00d7ff\">None</span>, <span style=\"color: #00af00; text-decoration-color: #00af00\">64</span>)        │      <span style=\"color: #00af00; text-decoration-color: #00af00\">8,256</span> │ concatenate[<span style=\"color: #00af00; text-decoration-color: #00af00\">0</span>][<span style=\"color: #00af00; text-decoration-color: #00af00\">0</span>] │\n",
       "├─────────────────────┼───────────────────┼────────────┼───────────────────┤\n",
       "│ dense_2 (<span style=\"color: #0087ff; text-decoration-color: #0087ff\">Dense</span>)     │ (<span style=\"color: #00d7ff; text-decoration-color: #00d7ff\">None</span>, <span style=\"color: #00af00; text-decoration-color: #00af00\">1</span>)         │         <span style=\"color: #00af00; text-decoration-color: #00af00\">65</span> │ dense_1[<span style=\"color: #00af00; text-decoration-color: #00af00\">0</span>][<span style=\"color: #00af00; text-decoration-color: #00af00\">0</span>]     │\n",
       "└─────────────────────┴───────────────────┴────────────┴───────────────────┘\n",
       "</pre>\n"
      ],
      "text/plain": [
       "┏━━━━━━━━━━━━━━━━━━━━━┳━━━━━━━━━━━━━━━━━━━┳━━━━━━━━━━━━┳━━━━━━━━━━━━━━━━━━━┓\n",
       "┃\u001b[1m \u001b[0m\u001b[1mLayer (type)       \u001b[0m\u001b[1m \u001b[0m┃\u001b[1m \u001b[0m\u001b[1mOutput Shape     \u001b[0m\u001b[1m \u001b[0m┃\u001b[1m \u001b[0m\u001b[1m   Param #\u001b[0m\u001b[1m \u001b[0m┃\u001b[1m \u001b[0m\u001b[1mConnected to     \u001b[0m\u001b[1m \u001b[0m┃\n",
       "┡━━━━━━━━━━━━━━━━━━━━━╇━━━━━━━━━━━━━━━━━━━╇━━━━━━━━━━━━╇━━━━━━━━━━━━━━━━━━━┩\n",
       "│ img_A_inp           │ (\u001b[38;5;45mNone\u001b[0m, \u001b[38;5;34m64\u001b[0m, \u001b[38;5;34m64\u001b[0m)    │          \u001b[38;5;34m0\u001b[0m │ -                 │\n",
       "│ (\u001b[38;5;33mInputLayer\u001b[0m)        │                   │            │                   │\n",
       "├─────────────────────┼───────────────────┼────────────┼───────────────────┤\n",
       "│ img_B_inp           │ (\u001b[38;5;45mNone\u001b[0m, \u001b[38;5;34m64\u001b[0m, \u001b[38;5;34m64\u001b[0m)    │          \u001b[38;5;34m0\u001b[0m │ -                 │\n",
       "│ (\u001b[38;5;33mInputLayer\u001b[0m)        │                   │            │                   │\n",
       "├─────────────────────┼───────────────────┼────────────┼───────────────────┤\n",
       "│ sequential_4        │ (\u001b[38;5;45mNone\u001b[0m, \u001b[38;5;34m64\u001b[0m)        │  \u001b[38;5;34m1,586,496\u001b[0m │ img_A_inp[\u001b[38;5;34m0\u001b[0m][\u001b[38;5;34m0\u001b[0m],  │\n",
       "│ (\u001b[38;5;33mSequential\u001b[0m)        │                   │            │ img_B_inp[\u001b[38;5;34m0\u001b[0m][\u001b[38;5;34m0\u001b[0m]   │\n",
       "├─────────────────────┼───────────────────┼────────────┼───────────────────┤\n",
       "│ concatenate         │ (\u001b[38;5;45mNone\u001b[0m, \u001b[38;5;34m128\u001b[0m)       │          \u001b[38;5;34m0\u001b[0m │ sequential_4[\u001b[38;5;34m0\u001b[0m][\u001b[38;5;34m…\u001b[0m │\n",
       "│ (\u001b[38;5;33mConcatenate\u001b[0m)       │                   │            │ sequential_4[\u001b[38;5;34m1\u001b[0m][\u001b[38;5;34m…\u001b[0m │\n",
       "├─────────────────────┼───────────────────┼────────────┼───────────────────┤\n",
       "│ dense_1 (\u001b[38;5;33mDense\u001b[0m)     │ (\u001b[38;5;45mNone\u001b[0m, \u001b[38;5;34m64\u001b[0m)        │      \u001b[38;5;34m8,256\u001b[0m │ concatenate[\u001b[38;5;34m0\u001b[0m][\u001b[38;5;34m0\u001b[0m] │\n",
       "├─────────────────────┼───────────────────┼────────────┼───────────────────┤\n",
       "│ dense_2 (\u001b[38;5;33mDense\u001b[0m)     │ (\u001b[38;5;45mNone\u001b[0m, \u001b[38;5;34m1\u001b[0m)         │         \u001b[38;5;34m65\u001b[0m │ dense_1[\u001b[38;5;34m0\u001b[0m][\u001b[38;5;34m0\u001b[0m]     │\n",
       "└─────────────────────┴───────────────────┴────────────┴───────────────────┘\n"
      ]
     },
     "metadata": {},
     "output_type": "display_data"
    },
    {
     "data": {
      "text/html": [
       "<pre style=\"white-space:pre;overflow-x:auto;line-height:normal;font-family:Menlo,'DejaVu Sans Mono',consolas,'Courier New',monospace\"><span style=\"font-weight: bold\"> Total params: </span><span style=\"color: #00af00; text-decoration-color: #00af00\">1,594,817</span> (6.08 MB)\n",
       "</pre>\n"
      ],
      "text/plain": [
       "\u001b[1m Total params: \u001b[0m\u001b[38;5;34m1,594,817\u001b[0m (6.08 MB)\n"
      ]
     },
     "metadata": {},
     "output_type": "display_data"
    },
    {
     "data": {
      "text/html": [
       "<pre style=\"white-space:pre;overflow-x:auto;line-height:normal;font-family:Menlo,'DejaVu Sans Mono',consolas,'Courier New',monospace\"><span style=\"font-weight: bold\"> Trainable params: </span><span style=\"color: #00af00; text-decoration-color: #00af00\">1,592,897</span> (6.08 MB)\n",
       "</pre>\n"
      ],
      "text/plain": [
       "\u001b[1m Trainable params: \u001b[0m\u001b[38;5;34m1,592,897\u001b[0m (6.08 MB)\n"
      ]
     },
     "metadata": {},
     "output_type": "display_data"
    },
    {
     "data": {
      "text/html": [
       "<pre style=\"white-space:pre;overflow-x:auto;line-height:normal;font-family:Menlo,'DejaVu Sans Mono',consolas,'Courier New',monospace\"><span style=\"font-weight: bold\"> Non-trainable params: </span><span style=\"color: #00af00; text-decoration-color: #00af00\">1,920</span> (7.50 KB)\n",
       "</pre>\n"
      ],
      "text/plain": [
       "\u001b[1m Non-trainable params: \u001b[0m\u001b[38;5;34m1,920\u001b[0m (7.50 KB)\n"
      ]
     },
     "metadata": {},
     "output_type": "display_data"
    }
   ],
   "source": [
    "import tensorflow as tf\n",
    "from tensorflow.keras.layers import *\n",
    "from tensorflow.keras.models import Sequential, Model\n",
    "\n",
    "\n",
    "img_A_inp = Input((64, 64), name='img_A_inp')\n",
    "img_B_inp = Input((64, 64), name='img_B_inp')\n",
    "\n",
    "def get_cnn_block(depth):\n",
    "  return Sequential([Conv2D(depth, 3, 1),\n",
    "                     BatchNormalization(),\n",
    "                     ReLU()])\n",
    "\n",
    "DEPTH = 64\n",
    "cnn = Sequential([Reshape((64, 64, 1)),\n",
    "                  get_cnn_block(DEPTH),\n",
    "                  get_cnn_block(DEPTH*2),\n",
    "                  get_cnn_block(DEPTH*4),\n",
    "                  get_cnn_block(DEPTH*8),\n",
    "                  GlobalAveragePooling2D(),\n",
    "                  Dense(64, activation='relu')])\n",
    "\n",
    "feature_vector_A = cnn(img_A_inp)\n",
    "feature_vector_B = cnn(img_B_inp)\n",
    "\n",
    "concat = Concatenate()([feature_vector_A, feature_vector_B])\n",
    "\n",
    "dense = Dense(64, activation='relu')(concat)\n",
    "output = Dense(1, activation='sigmoid')(dense)\n",
    "\n",
    "model = Model(inputs=[img_A_inp, img_B_inp], outputs=output)\n",
    "\n",
    "model.summary()"
   ]
  },
  {
   "cell_type": "code",
   "execution_count": 8,
   "metadata": {},
   "outputs": [
    {
     "name": "stdout",
     "output_type": "stream",
     "text": [
      "Train labels shape after squeezing: (1848,)\n",
      "Test labels shape after squeezing: (792,)\n",
      "Train pairs shape: (900, 2, 64, 64)\n",
      "Train pair labels shape: (900,)\n",
      "Test pairs shape: (100, 2, 64, 64)\n",
      "Test pair labels shape: (100,)\n"
     ]
    }
   ],
   "source": [
    "import itertools\n",
    "import numpy as np\n",
    "\n",
    "# Updated make_paired_dataset function\n",
    "def make_paired_dataset(X, y):\n",
    "    X_pairs, y_pairs = [], []\n",
    "\n",
    "    # Create tuples of (image, label)\n",
    "    tuples = [(x1, y1) for x1, y1 in zip(X, y)]\n",
    "\n",
    "    for t in itertools.product(tuples, tuples):\n",
    "        pair_A, pair_B = t\n",
    "        img_A, label_A = pair_A\n",
    "        img_B, label_B = pair_B\n",
    "\n",
    "        # Ensure labels are scalar values\n",
    "        if isinstance(label_A, np.ndarray) and label_A.size > 1:\n",
    "            raise ValueError(f\"Expected scalar labels, but got array: {label_A}\")\n",
    "        if isinstance(label_B, np.ndarray) and label_B.size > 1:\n",
    "            raise ValueError(f\"Expected scalar labels, but got array: {label_B}\")\n",
    "        \n",
    "        label_A = label_A.item() if isinstance(label_A, np.ndarray) else label_A\n",
    "        label_B = label_B.item() if isinstance(label_B, np.ndarray) else label_B\n",
    "\n",
    "        # Assign label for the pair\n",
    "        new_label = int(label_A == label_B)\n",
    "\n",
    "        X_pairs.append([img_A, img_B])\n",
    "        y_pairs.append(new_label)\n",
    "\n",
    "    X_pairs = np.array(X_pairs)\n",
    "    y_pairs = np.array(y_pairs)\n",
    "\n",
    "    return X_pairs, y_pairs\n",
    "\n",
    "# Ensure that train_labels and test_labels are 1D arrays\n",
    "train_labels = np.squeeze(train_labels)\n",
    "test_labels = np.squeeze(test_labels)\n",
    "\n",
    "# Debugging shape\n",
    "print(f\"Train labels shape after squeezing: {train_labels.shape}\")\n",
    "print(f\"Test labels shape after squeezing: {test_labels.shape}\")\n",
    "\n",
    "# Sampling and pairing\n",
    "random_indices = np.random.choice(train_data.shape[0], 30, replace=False)\n",
    "X_train_sample, y_train_sample = train_data[random_indices], train_labels[random_indices]\n",
    "\n",
    "random_indices = np.random.choice(test_data.shape[0], 10, replace=False)\n",
    "X_test_sample, y_test_sample = test_data[random_indices], test_labels[random_indices]\n",
    "\n",
    "train_pairs, train_pair_labels = make_paired_dataset(X_train_sample, y_train_sample)\n",
    "print(\"Train pairs shape:\", train_pairs.shape)\n",
    "print(\"Train pair labels shape:\", train_pair_labels.shape)\n",
    "\n",
    "test_pairs, test_pair_labels = make_paired_dataset(X_test_sample, y_test_sample)\n",
    "print(\"Test pairs shape:\", test_pairs.shape)\n",
    "print(\"Test pair labels shape:\", test_pair_labels.shape)\n"
   ]
  },
  {
   "cell_type": "code",
   "execution_count": 9,
   "metadata": {},
   "outputs": [],
   "source": [
    "model.compile(loss='binary_crossentropy',\n",
    "              optimizer=tf.keras.optimizers.Adam(learning_rate=0.001),\n",
    "              metrics=['accuracy'])\n",
    "\n",
    "\n",
    "from tensorflow.keras.callbacks import EarlyStopping\n",
    "\n",
    "es = EarlyStopping(patience=10)"
   ]
  },
  {
   "cell_type": "code",
   "execution_count": null,
   "metadata": {},
   "outputs": [
    {
     "name": "stdout",
     "output_type": "stream",
     "text": [
      "Epoch 1/40\n",
      "\u001b[1m 6/57\u001b[0m \u001b[32m━━\u001b[0m\u001b[37m━━━━━━━━━━━━━━━━━━\u001b[0m \u001b[1m9:02\u001b[0m 11s/step - accuracy: 0.5913 - loss: 0.7319"
     ]
    }
   ],
   "source": [
    "model.fit(\n",
    "    x=[train_pairs[:, 0, :, :], train_pairs[:, 1, :, :]],\n",
    "    y=train_pair_labels,\n",
    "    validation_data=(\n",
    "        [test_pairs[:, 0, :, :], test_pairs[:, 1, :, :]],\n",
    "        test_pair_labels\n",
    "    ),\n",
    "    epochs=40,\n",
    "    batch_size=16,\n",
    "    callbacks=[es]\n",
    ")"
   ]
  },
  {
   "cell_type": "code",
   "execution_count": 11,
   "metadata": {},
   "outputs": [
    {
     "name": "stdout",
     "output_type": "stream",
     "text": [
      "INFO:tensorflow:Assets written to: saved_model/assets\n"
     ]
    },
    {
     "name": "stderr",
     "output_type": "stream",
     "text": [
      "INFO:tensorflow:Assets written to: saved_model/assets\n",
      "/Users/mrinmoy/miniforge3/envs/aiml_stuff/lib/python3.8/site-packages/keras/src/engine/training.py:3000: UserWarning: You are saving your model as an HDF5 file via `model.save()`. This file format is considered legacy. We recommend using instead the native Keras format, e.g. `model.save('my_model.keras')`.\n",
      "  saving_api.save_model(\n"
     ]
    }
   ],
   "source": [
    "# Save the model in SavedModel format\n",
    "model.save(\"saved_model\")\n",
    "\n",
    "# Save the model in HDF5 format (optional)\n",
    "model.save(\"model.h5\")\n",
    "model.save_weights(\"weights.h5\")"
   ]
  },
  {
   "cell_type": "code",
   "execution_count": 56,
   "metadata": {},
   "outputs": [
    {
     "name": "stdout",
     "output_type": "stream",
     "text": [
      "Label A: 0, Label B: 0\n"
     ]
    },
    {
     "data": {
      "image/png": "[encoded data removed]",
      "text/plain": [
       "<Figure size 179.2x134.4 with 1 Axes>"
      ]
     },
     "metadata": {},
     "output_type": "display_data"
    },
    {
     "data": {
      "image/png": "[encoded data removed]",
      "text/plain": [
       "<Figure size 179.2x134.4 with 1 Axes>"
      ]
     },
     "metadata": {},
     "output_type": "display_data"
    }
   ],
   "source": [
    "import matplotlib.pyplot as plt\n",
    "\n",
    "# Extract two images and their labels\n",
    "n = 3\n",
    "img_A, img_B = test_data[0], test_data[n]\n",
    "label_A, label_B = test_labels[0], test_labels[n]\n",
    "\n",
    "# Display the labels\n",
    "print(f\"Label A: {label_A}, Label B: {label_B}\")\n",
    "\n",
    "# Plot the first image\n",
    "plt.figure(dpi=28)\n",
    "plt.imshow(img_A, cmap='gray')  # Use 'gray' colormap for grayscale images\n",
    "plt.title(f\"Image A - Label: {label_A}\")\n",
    "plt.axis('off')  # Turn off axis for better visualization\n",
    "plt.show()\n",
    "\n",
    "# Plot the second image\n",
    "plt.figure(dpi=28)\n",
    "plt.imshow(img_B, cmap='gray')  # Use 'gray' colormap for grayscale images\n",
    "plt.title(f\"Image B - Label: {label_B}\")\n",
    "plt.axis('off')  # Turn off axis for better visualization\n",
    "plt.show()\n"
   ]
  },
  {
   "cell_type": "code",
   "execution_count": 21,
   "metadata": {},
   "outputs": [
    {
     "name": "stdout",
     "output_type": "stream",
     "text": [
      "1/1 [==============================] - 0s 170ms/step\n",
      "Similarity score: 1.3482549547916278e-05\n",
      "Are the images similar? No\n"
     ]
    }
   ],
   "source": [
    "import cv2\n",
    "import numpy as np\n",
    "from tensorflow.keras.models import load_model\n",
    "\n",
    "# Function to preprocess a single image\n",
    "def preprocess_image(image_path):\n",
    "    # Read the image\n",
    "    image = cv2.imread(image_path)\n",
    "    if image is None:\n",
    "        raise ValueError(f\"Error: Unable to read the image at {image_path}\")\n",
    "    \n",
    "    # Convert to grayscale\n",
    "    image = cv2.cvtColor(image, cv2.COLOR_BGR2GRAY)\n",
    "    \n",
    "    # Resize to 64x64\n",
    "    image = cv2.resize(image, (64, 64))\n",
    "    \n",
    "    # Normalize pixel values\n",
    "    image = image / 255.0\n",
    "    \n",
    "    # Reshape to include batch and channel dimensions\n",
    "    image = image.reshape((1, 64, 64, 1))\n",
    "    \n",
    "    return image\n",
    "\n",
    "# Load the trained model\n",
    "# model = load_model(\"saved_model/model.h5\")\n",
    "loaded_model = load_model(\"saved_model\")\n",
    "\n",
    "# Input two image paths\n",
    "image_path_A = \"signatures/full_forg/forgeries_1_20.png\"\n",
    "image_path_B = \"signatures/full_org/original_1_20.png\"\n",
    "\n",
    "# Preprocess the images\n",
    "img_A = preprocess_image(image_path_A)\n",
    "img_B = preprocess_image(image_path_B)\n",
    "\n",
    "# Predict similarity score\n",
    "similarity_score = loaded_model.predict([img_A, img_B]).flatten()[0]\n",
    "\n",
    "# Output results\n",
    "print(f\"Similarity score: {similarity_score}\")\n",
    "is_similar = similarity_score > 0.5\n",
    "print(f\"Are the images similar? {'Yes' if is_similar else 'No'}\")\n"
   ]
  },
  {
   "cell_type": "code",
   "execution_count": null,
   "metadata": {},
   "outputs": [],
   "source": []
  }
 ],
 "metadata": {
  "kernelspec": {
   "display_name": ".venv",
   "language": "python",
   "name": "python3"
  },
  "language_info": {
   "codemirror_mode": {
    "name": "ipython",
    "version": 3
   },
   "file_extension": ".py",
   "mimetype": "text/x-python",
   "name": "python",
   "nbconvert_exporter": "python",
   "pygments_lexer": "ipython3",
   "version": "3.13.3"
  }
 },
 "nbformat": 4,
 "nbformat_minor": 4
}
